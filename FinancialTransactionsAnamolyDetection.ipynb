{
  "nbformat": 4,
  "nbformat_minor": 0,
  "metadata": {
    "colab": {
      "provenance": [],
      "authorship_tag": "ABX9TyPSh7Rx8B9qUj0yeEeBRpha",
      "include_colab_link": true
    },
    "kernelspec": {
      "name": "python3",
      "display_name": "Python 3"
    },
    "language_info": {
      "name": "python"
    }
  },
  "cells": [
    {
      "cell_type": "markdown",
      "metadata": {
        "id": "view-in-github",
        "colab_type": "text"
      },
      "source": [
        "<a href=\"https://colab.research.google.com/github/PravalikaBojja/CyberWaves/blob/main/FinancialTransactionsAnamolyDetection.ipynb\" target=\"_parent\"><img src=\"https://colab.research.google.com/assets/colab-badge.svg\" alt=\"Open In Colab\"/></a>"
      ]
    },
    {
      "cell_type": "code",
      "execution_count": 1,
      "metadata": {
        "id": "RCdXPog6PVVc"
      },
      "outputs": [],
      "source": [
        "import pandas as pd\n",
        "import numpy as np\n",
        "from scipy import stats"
      ]
    },
    {
      "cell_type": "code",
      "source": [
        "from google.colab import files\n",
        "uploaded = files.upload()"
      ],
      "metadata": {
        "colab": {
          "base_uri": "https://localhost:8080/",
          "height": 73
        },
        "id": "-7ErkqpiPYEn",
        "outputId": "a04929b3-db67-4d98-b672-ca3cb89ba973"
      },
      "execution_count": 2,
      "outputs": [
        {
          "output_type": "display_data",
          "data": {
            "text/plain": [
              "<IPython.core.display.HTML object>"
            ],
            "text/html": [
              "\n",
              "     <input type=\"file\" id=\"files-2bb182b1-e043-40ca-9a95-da8efb522e76\" name=\"files[]\" multiple disabled\n",
              "        style=\"border:none\" />\n",
              "     <output id=\"result-2bb182b1-e043-40ca-9a95-da8efb522e76\">\n",
              "      Upload widget is only available when the cell has been executed in the\n",
              "      current browser session. Please rerun this cell to enable.\n",
              "      </output>\n",
              "      <script>// Copyright 2017 Google LLC\n",
              "//\n",
              "// Licensed under the Apache License, Version 2.0 (the \"License\");\n",
              "// you may not use this file except in compliance with the License.\n",
              "// You may obtain a copy of the License at\n",
              "//\n",
              "//      http://www.apache.org/licenses/LICENSE-2.0\n",
              "//\n",
              "// Unless required by applicable law or agreed to in writing, software\n",
              "// distributed under the License is distributed on an \"AS IS\" BASIS,\n",
              "// WITHOUT WARRANTIES OR CONDITIONS OF ANY KIND, either express or implied.\n",
              "// See the License for the specific language governing permissions and\n",
              "// limitations under the License.\n",
              "\n",
              "/**\n",
              " * @fileoverview Helpers for google.colab Python module.\n",
              " */\n",
              "(function(scope) {\n",
              "function span(text, styleAttributes = {}) {\n",
              "  const element = document.createElement('span');\n",
              "  element.textContent = text;\n",
              "  for (const key of Object.keys(styleAttributes)) {\n",
              "    element.style[key] = styleAttributes[key];\n",
              "  }\n",
              "  return element;\n",
              "}\n",
              "\n",
              "// Max number of bytes which will be uploaded at a time.\n",
              "const MAX_PAYLOAD_SIZE = 100 * 1024;\n",
              "\n",
              "function _uploadFiles(inputId, outputId) {\n",
              "  const steps = uploadFilesStep(inputId, outputId);\n",
              "  const outputElement = document.getElementById(outputId);\n",
              "  // Cache steps on the outputElement to make it available for the next call\n",
              "  // to uploadFilesContinue from Python.\n",
              "  outputElement.steps = steps;\n",
              "\n",
              "  return _uploadFilesContinue(outputId);\n",
              "}\n",
              "\n",
              "// This is roughly an async generator (not supported in the browser yet),\n",
              "// where there are multiple asynchronous steps and the Python side is going\n",
              "// to poll for completion of each step.\n",
              "// This uses a Promise to block the python side on completion of each step,\n",
              "// then passes the result of the previous step as the input to the next step.\n",
              "function _uploadFilesContinue(outputId) {\n",
              "  const outputElement = document.getElementById(outputId);\n",
              "  const steps = outputElement.steps;\n",
              "\n",
              "  const next = steps.next(outputElement.lastPromiseValue);\n",
              "  return Promise.resolve(next.value.promise).then((value) => {\n",
              "    // Cache the last promise value to make it available to the next\n",
              "    // step of the generator.\n",
              "    outputElement.lastPromiseValue = value;\n",
              "    return next.value.response;\n",
              "  });\n",
              "}\n",
              "\n",
              "/**\n",
              " * Generator function which is called between each async step of the upload\n",
              " * process.\n",
              " * @param {string} inputId Element ID of the input file picker element.\n",
              " * @param {string} outputId Element ID of the output display.\n",
              " * @return {!Iterable<!Object>} Iterable of next steps.\n",
              " */\n",
              "function* uploadFilesStep(inputId, outputId) {\n",
              "  const inputElement = document.getElementById(inputId);\n",
              "  inputElement.disabled = false;\n",
              "\n",
              "  const outputElement = document.getElementById(outputId);\n",
              "  outputElement.innerHTML = '';\n",
              "\n",
              "  const pickedPromise = new Promise((resolve) => {\n",
              "    inputElement.addEventListener('change', (e) => {\n",
              "      resolve(e.target.files);\n",
              "    });\n",
              "  });\n",
              "\n",
              "  const cancel = document.createElement('button');\n",
              "  inputElement.parentElement.appendChild(cancel);\n",
              "  cancel.textContent = 'Cancel upload';\n",
              "  const cancelPromise = new Promise((resolve) => {\n",
              "    cancel.onclick = () => {\n",
              "      resolve(null);\n",
              "    };\n",
              "  });\n",
              "\n",
              "  // Wait for the user to pick the files.\n",
              "  const files = yield {\n",
              "    promise: Promise.race([pickedPromise, cancelPromise]),\n",
              "    response: {\n",
              "      action: 'starting',\n",
              "    }\n",
              "  };\n",
              "\n",
              "  cancel.remove();\n",
              "\n",
              "  // Disable the input element since further picks are not allowed.\n",
              "  inputElement.disabled = true;\n",
              "\n",
              "  if (!files) {\n",
              "    return {\n",
              "      response: {\n",
              "        action: 'complete',\n",
              "      }\n",
              "    };\n",
              "  }\n",
              "\n",
              "  for (const file of files) {\n",
              "    const li = document.createElement('li');\n",
              "    li.append(span(file.name, {fontWeight: 'bold'}));\n",
              "    li.append(span(\n",
              "        `(${file.type || 'n/a'}) - ${file.size} bytes, ` +\n",
              "        `last modified: ${\n",
              "            file.lastModifiedDate ? file.lastModifiedDate.toLocaleDateString() :\n",
              "                                    'n/a'} - `));\n",
              "    const percent = span('0% done');\n",
              "    li.appendChild(percent);\n",
              "\n",
              "    outputElement.appendChild(li);\n",
              "\n",
              "    const fileDataPromise = new Promise((resolve) => {\n",
              "      const reader = new FileReader();\n",
              "      reader.onload = (e) => {\n",
              "        resolve(e.target.result);\n",
              "      };\n",
              "      reader.readAsArrayBuffer(file);\n",
              "    });\n",
              "    // Wait for the data to be ready.\n",
              "    let fileData = yield {\n",
              "      promise: fileDataPromise,\n",
              "      response: {\n",
              "        action: 'continue',\n",
              "      }\n",
              "    };\n",
              "\n",
              "    // Use a chunked sending to avoid message size limits. See b/62115660.\n",
              "    let position = 0;\n",
              "    do {\n",
              "      const length = Math.min(fileData.byteLength - position, MAX_PAYLOAD_SIZE);\n",
              "      const chunk = new Uint8Array(fileData, position, length);\n",
              "      position += length;\n",
              "\n",
              "      const base64 = btoa(String.fromCharCode.apply(null, chunk));\n",
              "      yield {\n",
              "        response: {\n",
              "          action: 'append',\n",
              "          file: file.name,\n",
              "          data: base64,\n",
              "        },\n",
              "      };\n",
              "\n",
              "      let percentDone = fileData.byteLength === 0 ?\n",
              "          100 :\n",
              "          Math.round((position / fileData.byteLength) * 100);\n",
              "      percent.textContent = `${percentDone}% done`;\n",
              "\n",
              "    } while (position < fileData.byteLength);\n",
              "  }\n",
              "\n",
              "  // All done.\n",
              "  yield {\n",
              "    response: {\n",
              "      action: 'complete',\n",
              "    }\n",
              "  };\n",
              "}\n",
              "\n",
              "scope.google = scope.google || {};\n",
              "scope.google.colab = scope.google.colab || {};\n",
              "scope.google.colab._files = {\n",
              "  _uploadFiles,\n",
              "  _uploadFilesContinue,\n",
              "};\n",
              "})(self);\n",
              "</script> "
            ]
          },
          "metadata": {}
        },
        {
          "output_type": "stream",
          "name": "stdout",
          "text": [
            "Saving Financial Transactions.csv.txt to Financial Transactions.csv.txt\n"
          ]
        }
      ]
    },
    {
      "cell_type": "code",
      "source": [
        "# Load the dataset\n",
        "data = pd.read_csv(\"/content/Financial Transactions.csv.txt\")"
      ],
      "metadata": {
        "id": "kkiLv1_LPzYL"
      },
      "execution_count": 4,
      "outputs": []
    },
    {
      "cell_type": "code",
      "source": [
        "# Data Preprocessing\n",
        "def preprocess_data(df):\n",
        "    # Convert date to datetime\n",
        "    df['date'] = pd.to_datetime(df['date'], errors='coerce')\n",
        "\n",
        "    # Remove rows with NaN in 'date' or 'amount'\n",
        "    df = df.dropna(subset=['date', 'amount'])\n",
        "\n",
        "    # Convert amount to float\n",
        "    df['amount'] = df['amount'].astype(float)\n",
        "\n",
        "    return df"
      ],
      "metadata": {
        "id": "CkDFV8sCPzkk"
      },
      "execution_count": 5,
      "outputs": []
    },
    {
      "cell_type": "code",
      "source": [
        "data = preprocess_data(data)"
      ],
      "metadata": {
        "id": "Bviby_usPzt8"
      },
      "execution_count": 6,
      "outputs": []
    },
    {
      "cell_type": "code",
      "source": [
        "print(data.head())"
      ],
      "metadata": {
        "colab": {
          "base_uri": "https://localhost:8080/"
        },
        "id": "9EnbQwURuK7k",
        "outputId": "9e445820-e4d2-4b50-d445-8fa92d73a3d1"
      },
      "execution_count": 7,
      "outputs": [
        {
          "output_type": "stream",
          "name": "stdout",
          "text": [
            "  transaction_id       date       category  amount\n",
            "0         TRX001 2024-06-01           Food    25.0\n",
            "1         TRX002 2024-06-01      Utilities   150.0\n",
            "2         TRX003 2024-06-01  Entertainment   200.0\n",
            "3         TRX004 2024-06-02           Food  3000.0\n",
            "4         TRX005 2024-06-02      Transport    45.0\n"
          ]
        }
      ]
    },
    {
      "cell_type": "code",
      "source": [
        "# Statistical Analysis\n",
        "def calculate_statistics(df):\n",
        "    stats = df.groupby('category').agg({\n",
        "        'amount': ['mean', 'median', 'std', 'count']\n",
        "    }).reset_index()\n",
        "\n",
        "    stats.columns = ['category', 'mean', 'median', 'std', 'count']\n",
        "    return stats\n"
      ],
      "metadata": {
        "id": "jRILcPYkPzwf"
      },
      "execution_count": 8,
      "outputs": []
    },
    {
      "cell_type": "code",
      "source": [
        "stats = calculate_statistics(data)"
      ],
      "metadata": {
        "id": "HSOir7YSPzzC"
      },
      "execution_count": 9,
      "outputs": []
    },
    {
      "cell_type": "code",
      "source": [
        "# Calculate IQR for each category\n",
        "def calculate_iqr(df):\n",
        "    iqr_stats = df.groupby('category').amount.agg(['quantile'])\n",
        "    iqr_stats['IQR'] = iqr_stats['quantile'] - iqr_stats['quantile']\n",
        "    iqr_stats = iqr_stats.reset_index()\n",
        "    return iqr_stats"
      ],
      "metadata": {
        "id": "ved3Uoe5Pz1h"
      },
      "execution_count": 10,
      "outputs": []
    },
    {
      "cell_type": "code",
      "source": [
        "iqr_stats = calculate_iqr(data)"
      ],
      "metadata": {
        "id": "4Lo0_wcYPz34"
      },
      "execution_count": 11,
      "outputs": []
    },
    {
      "cell_type": "code",
      "source": [
        "# Define thresholds for anomaly detection\n",
        "def define_thresholds(stats, iqr_stats):\n",
        "    thresholds = pd.merge(stats, iqr_stats, on='category')\n",
        "    thresholds['upper_limit'] = thresholds['median'] + 3 * thresholds['std']\n",
        "    thresholds['lower_limit'] = thresholds['median'] - 3 * thresholds['std']\n",
        "    thresholds['iqr_upper'] = thresholds['quantile'] + 1.5 * thresholds['IQR']\n",
        "    thresholds['iqr_lower'] = thresholds['quantile'] - 1.5 * thresholds['IQR']\n",
        "    return thresholds"
      ],
      "metadata": {
        "id": "tP3Bf0URPz6e"
      },
      "execution_count": 12,
      "outputs": []
    },
    {
      "cell_type": "code",
      "source": [
        "thresholds = define_thresholds(stats, iqr_stats)"
      ],
      "metadata": {
        "id": "LwrIucdjPz80"
      },
      "execution_count": 13,
      "outputs": []
    },
    {
      "cell_type": "code",
      "source": [
        "# Anomaly Detection\n",
        "def detect_anomalies(df, thresholds):\n",
        "    anomalies = []\n",
        "    for _, row in df.iterrows():\n",
        "        category = row['category']\n",
        "        amount = row['amount']\n",
        "        threshold = thresholds[thresholds['category'] == category].iloc[0]\n",
        "\n",
        "        if amount > threshold['upper_limit'] or amount < threshold['lower_limit']:\n",
        "            anomalies.append({\n",
        "                'transaction_id': row['transaction_id'],\n",
        "                'date': row['date'],\n",
        "                'category': row['category'],\n",
        "                'amount': row['amount'],\n",
        "                'reason_for_anomaly': '3 std deviations from the mean'\n",
        "            })\n",
        "        elif amount > threshold['iqr_upper'] or amount < threshold['iqr_lower']:\n",
        "            anomalies.append({\n",
        "                'transaction_id': row['transaction_id'],\n",
        "                'date': row['date'],\n",
        "                'category': row['category'],\n",
        "                'amount': row['amount'],\n",
        "                'reason_for_anomaly': 'Outside IQR range'\n",
        "            })\n",
        "    return anomalies"
      ],
      "metadata": {
        "id": "YIrWVACQPz_C"
      },
      "execution_count": 14,
      "outputs": []
    },
    {
      "cell_type": "code",
      "source": [
        "anomalies = detect_anomalies(data, thresholds)"
      ],
      "metadata": {
        "id": "rEEd6w3uP0Co"
      },
      "execution_count": 15,
      "outputs": []
    },
    {
      "cell_type": "code",
      "source": [
        "# Reporting\n",
        "def generate_report(anomalies):\n",
        "    report_df = pd.DataFrame(anomalies)\n",
        "    report_df.to_csv('anomalies_report.csv', index=False)\n",
        "    print(\"Anomalies report generated: anomalies_report.csv\")\n",
        "\n",
        "generate_report(anomalies)\n"
      ],
      "metadata": {
        "colab": {
          "base_uri": "https://localhost:8080/"
        },
        "id": "sEYi5NSuPdTz",
        "outputId": "a15675ad-74f3-4425-cb75-f0be73f581f0"
      },
      "execution_count": 16,
      "outputs": [
        {
          "output_type": "stream",
          "name": "stdout",
          "text": [
            "Anomalies report generated: anomalies_report.csv\n"
          ]
        }
      ]
    },
    {
      "cell_type": "code",
      "source": [],
      "metadata": {
        "id": "IrepPRbHPqCK"
      },
      "execution_count": 16,
      "outputs": []
    }
  ]
}
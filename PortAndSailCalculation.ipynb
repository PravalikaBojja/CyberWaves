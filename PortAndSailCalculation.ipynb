{
  "nbformat": 4,
  "nbformat_minor": 0,
  "metadata": {
    "colab": {
      "provenance": [],
      "authorship_tag": "ABX9TyMue6z3BcswIjvK+NFswmJ5",
      "include_colab_link": true
    },
    "kernelspec": {
      "name": "python3",
      "display_name": "Python 3"
    },
    "language_info": {
      "name": "python"
    }
  },
  "cells": [
    {
      "cell_type": "markdown",
      "metadata": {
        "id": "view-in-github",
        "colab_type": "text"
      },
      "source": [
        "<a href=\"https://colab.research.google.com/github/PravalikaBojja/PortAndSailCalculation/blob/main/PortAndSailCalculation.ipynb\" target=\"_parent\"><img src=\"https://colab.research.google.com/assets/colab-badge.svg\" alt=\"Open In Colab\"/></a>"
      ]
    },
    {
      "cell_type": "code",
      "execution_count": null,
      "metadata": {
        "id": "rH0pnkoY-xwY"
      },
      "outputs": [],
      "source": [
        "import pandas as pd\n",
        "import numpy as np\n",
        "from datetime import datetime, timedelta\n",
        "from math import radians, sin, cos, sqrt, atan2"
      ]
    },
    {
      "cell_type": "code",
      "source": [
        "# Load data\n",
        "data = {\n",
        "    'id': [1, 2, 3, 4],\n",
        "    'event': ['SOSP', 'EOSP', 'SOSP', 'EOSP'],\n",
        "    'dateStamp': [43831, 43831, 43832, 43832],\n",
        "    'timeStamp': [0.708333, 0.791667, 0.333333, 0.583333],\n",
        "    'voyage_From': ['Port A', 'Port A', 'Port B', 'Port B'],\n",
        "    'lat': [34.0522, 34.0522, 36.7783, 36.7783],\n",
        "    'lon': [-118.2437, -118.2437, -119.4179, -119.4179],\n",
        "    'imo_num': ['9434761', '9434761', '9434761', '9434761'],\n",
        "    'voyage_Id': ['6', '6', '6', '6'],\n",
        "    'allocatedVoyageId': [None, None, None, None]\n",
        "}"
      ],
      "metadata": {
        "id": "u6fxnHjxCFJ-"
      },
      "execution_count": null,
      "outputs": []
    },
    {
      "cell_type": "code",
      "source": [
        "df = pd.DataFrame(data)"
      ],
      "metadata": {
        "id": "mcnCGe8nCRvI"
      },
      "execution_count": null,
      "outputs": []
    },
    {
      "cell_type": "code",
      "source": [
        "print(df.head())"
      ],
      "metadata": {
        "colab": {
          "base_uri": "https://localhost:8080/"
        },
        "id": "5T_3OZXjCR4C",
        "outputId": "325e6dcb-81b5-4f6b-821a-2bc2bfe77303"
      },
      "execution_count": null,
      "outputs": [
        {
          "output_type": "stream",
          "name": "stdout",
          "text": [
            "   id event  dateStamp  timeStamp voyage_From      lat       lon  imo_num  \\\n",
            "0   1  SOSP      43831   0.708333      Port A  34.0522 -118.2437  9434761   \n",
            "1   2  EOSP      43831   0.791667      Port A  34.0522 -118.2437  9434761   \n",
            "2   3  SOSP      43832   0.333333      Port B  36.7783 -119.4179  9434761   \n",
            "3   4  EOSP      43832   0.583333      Port B  36.7783 -119.4179  9434761   \n",
            "\n",
            "  voyage_Id allocatedVoyageId  \n",
            "0         6              None  \n",
            "1         6              None  \n",
            "2         6              None  \n",
            "3         6              None  \n"
          ]
        }
      ]
    },
    {
      "cell_type": "code",
      "source": [
        "print(df)"
      ],
      "metadata": {
        "colab": {
          "base_uri": "https://localhost:8080/"
        },
        "id": "nPzMVOy3Dnel",
        "outputId": "39e8a5b5-ac24-4024-e487-654d319de9cd"
      },
      "execution_count": null,
      "outputs": [
        {
          "output_type": "stream",
          "name": "stdout",
          "text": [
            "   id event  dateStamp  timeStamp voyage_From      lat       lon  imo_num  \\\n",
            "0   1  SOSP      43831   0.708333      Port A  34.0522 -118.2437  9434761   \n",
            "1   2  EOSP      43831   0.791667      Port A  34.0522 -118.2437  9434761   \n",
            "2   3  SOSP      43832   0.333333      Port B  36.7783 -119.4179  9434761   \n",
            "3   4  EOSP      43832   0.583333      Port B  36.7783 -119.4179  9434761   \n",
            "\n",
            "  voyage_Id allocatedVoyageId  \n",
            "0         6              None  \n",
            "1         6              None  \n",
            "2         6              None  \n",
            "3         6              None  \n"
          ]
        }
      ]
    },
    {
      "cell_type": "code",
      "source": [
        "# Convert to datetime\n",
        "df['utc_time'] = pd.to_datetime(df['dateStamp'] - 2) + pd.to_timedelta(df['timeStamp'], unit='D')"
      ],
      "metadata": {
        "id": "Rsv_VfQGCR6v"
      },
      "execution_count": null,
      "outputs": []
    },
    {
      "cell_type": "code",
      "source": [
        "print(df)"
      ],
      "metadata": {
        "colab": {
          "base_uri": "https://localhost:8080/"
        },
        "id": "xl41YqGJDx3E",
        "outputId": "d8b4fb30-ce17-4f49-c1bf-58284c3002a0"
      },
      "execution_count": null,
      "outputs": [
        {
          "output_type": "stream",
          "name": "stdout",
          "text": [
            "   id event  dateStamp  timeStamp voyage_From      lat       lon  imo_num  \\\n",
            "0   1  SOSP      43831   0.708333      Port A  34.0522 -118.2437  9434761   \n",
            "1   2  EOSP      43831   0.791667      Port A  34.0522 -118.2437  9434761   \n",
            "2   3  SOSP      43832   0.333333      Port B  36.7783 -119.4179  9434761   \n",
            "3   4  EOSP      43832   0.583333      Port B  36.7783 -119.4179  9434761   \n",
            "\n",
            "  voyage_Id allocatedVoyageId                      utc_time  \n",
            "0         6              None 1970-01-01 16:59:59.971243829  \n",
            "1         6              None 1970-01-01 19:00:00.028843829  \n",
            "2         6              None 1970-01-01 07:59:59.971243830  \n",
            "3         6              None 1970-01-01 13:59:59.971243830  \n"
          ]
        }
      ]
    },
    {
      "cell_type": "code",
      "source": [
        "# Calculate next time\n",
        "df['next_utc_time'] = df['utc_time'].shift(-1)\n",
        "df['next_lat'] = df['lat'].shift(-1)\n",
        "df['next_lon'] = df['lon'].shift(-1)"
      ],
      "metadata": {
        "id": "h2-mhjBACR9K"
      },
      "execution_count": null,
      "outputs": []
    },
    {
      "cell_type": "code",
      "source": [
        "print(df)"
      ],
      "metadata": {
        "colab": {
          "base_uri": "https://localhost:8080/"
        },
        "id": "ETAygpKsD31e",
        "outputId": "25d2c718-bf9a-41b5-8e2d-682a8dc77a73"
      },
      "execution_count": null,
      "outputs": [
        {
          "output_type": "stream",
          "name": "stdout",
          "text": [
            "   id event  dateStamp  timeStamp voyage_From      lat       lon  imo_num  \\\n",
            "0   1  SOSP      43831   0.708333      Port A  34.0522 -118.2437  9434761   \n",
            "1   2  EOSP      43831   0.791667      Port A  34.0522 -118.2437  9434761   \n",
            "2   3  SOSP      43832   0.333333      Port B  36.7783 -119.4179  9434761   \n",
            "3   4  EOSP      43832   0.583333      Port B  36.7783 -119.4179  9434761   \n",
            "\n",
            "  voyage_Id allocatedVoyageId                      utc_time  \\\n",
            "0         6              None 1970-01-01 16:59:59.971243829   \n",
            "1         6              None 1970-01-01 19:00:00.028843829   \n",
            "2         6              None 1970-01-01 07:59:59.971243830   \n",
            "3         6              None 1970-01-01 13:59:59.971243830   \n",
            "\n",
            "                  next_utc_time  next_lat  next_lon  \n",
            "0 1970-01-01 19:00:00.028843829   34.0522 -118.2437  \n",
            "1 1970-01-01 07:59:59.971243830   36.7783 -119.4179  \n",
            "2 1970-01-01 13:59:59.971243830   36.7783 -119.4179  \n",
            "3                           NaT       NaN       NaN  \n"
          ]
        }
      ]
    },
    {
      "cell_type": "code",
      "source": [
        "# Calculate time difference in minutes\n",
        "df['duration_minutes'] = (df['next_utc_time'] - df['utc_time']).dt.total_seconds() / 60"
      ],
      "metadata": {
        "id": "Jg-9QpGPCSAA"
      },
      "execution_count": null,
      "outputs": []
    },
    {
      "cell_type": "code",
      "source": [
        "# Calculate distance\n",
        "df['distance_km'] = df.apply(lambda row: haversine(row['lat'], row['lon'], row['next_lat'], row['next_lon']), axis=1)"
      ],
      "metadata": {
        "id": "jj_nOydjCSCn"
      },
      "execution_count": null,
      "outputs": []
    },
    {
      "cell_type": "code",
      "source": [
        "print(df)"
      ],
      "metadata": {
        "colab": {
          "base_uri": "https://localhost:8080/"
        },
        "id": "H-HzpXKiD7_l",
        "outputId": "888ef552-3dcc-45f5-c823-4c90b1ff7205"
      },
      "execution_count": null,
      "outputs": [
        {
          "output_type": "stream",
          "name": "stdout",
          "text": [
            "   id event  dateStamp  timeStamp voyage_From      lat       lon  imo_num  \\\n",
            "0   1  SOSP      43831   0.708333      Port A  34.0522 -118.2437  9434761   \n",
            "1   2  EOSP      43831   0.791667      Port A  34.0522 -118.2437  9434761   \n",
            "2   3  SOSP      43832   0.333333      Port B  36.7783 -119.4179  9434761   \n",
            "3   4  EOSP      43832   0.583333      Port B  36.7783 -119.4179  9434761   \n",
            "\n",
            "  voyage_Id allocatedVoyageId                      utc_time  \\\n",
            "0         6              None 1970-01-01 16:59:59.971243829   \n",
            "1         6              None 1970-01-01 19:00:00.028843829   \n",
            "2         6              None 1970-01-01 07:59:59.971243830   \n",
            "3         6              None 1970-01-01 13:59:59.971243830   \n",
            "\n",
            "                  next_utc_time  next_lat  next_lon  duration_minutes  \\\n",
            "0 1970-01-01 19:00:00.028843829   34.0522 -118.2437         120.00096   \n",
            "1 1970-01-01 07:59:59.971243830   36.7783 -119.4179        -660.00096   \n",
            "2 1970-01-01 13:59:59.971243830   36.7783 -119.4179         360.00000   \n",
            "3                           NaT       NaN       NaN               NaN   \n",
            "\n",
            "   distance_km  \n",
            "0     0.000000  \n",
            "1   321.253546  \n",
            "2     0.000000  \n",
            "3          NaN  \n"
          ]
        }
      ]
    },
    {
      "cell_type": "code",
      "source": [
        "# Drop the last row (NaNs due to shift)\n",
        "df = df.dropna(subset=['next_utc_time'])"
      ],
      "metadata": {
        "id": "MxQH21PyCSFM"
      },
      "execution_count": null,
      "outputs": []
    },
    {
      "cell_type": "code",
      "source": [
        "print(df)"
      ],
      "metadata": {
        "colab": {
          "base_uri": "https://localhost:8080/"
        },
        "id": "zWE2dO2VD_Vl",
        "outputId": "1f2a530d-5137-48af-f110-56a2c189e412"
      },
      "execution_count": null,
      "outputs": [
        {
          "output_type": "stream",
          "name": "stdout",
          "text": [
            "   id event  dateStamp  timeStamp voyage_From      lat       lon  imo_num  \\\n",
            "0   1  SOSP      43831   0.708333      Port A  34.0522 -118.2437  9434761   \n",
            "1   2  EOSP      43831   0.791667      Port A  34.0522 -118.2437  9434761   \n",
            "2   3  SOSP      43832   0.333333      Port B  36.7783 -119.4179  9434761   \n",
            "\n",
            "  voyage_Id allocatedVoyageId                      utc_time  \\\n",
            "0         6              None 1970-01-01 16:59:59.971243829   \n",
            "1         6              None 1970-01-01 19:00:00.028843829   \n",
            "2         6              None 1970-01-01 07:59:59.971243830   \n",
            "\n",
            "                  next_utc_time  next_lat  next_lon  duration_minutes  \\\n",
            "0 1970-01-01 19:00:00.028843829   34.0522 -118.2437         120.00096   \n",
            "1 1970-01-01 07:59:59.971243830   36.7783 -119.4179        -660.00096   \n",
            "2 1970-01-01 13:59:59.971243830   36.7783 -119.4179         360.00000   \n",
            "\n",
            "   distance_km  \n",
            "0     0.000000  \n",
            "1   321.253546  \n",
            "2     0.000000  \n"
          ]
        }
      ]
    },
    {
      "cell_type": "code",
      "source": [
        "print(df[['id', 'event', 'utc_time', 'duration_minutes', 'distance_km']])"
      ],
      "metadata": {
        "colab": {
          "base_uri": "https://localhost:8080/"
        },
        "id": "-KNhKUTyCSH1",
        "outputId": "67a7c899-6fff-4c3c-82a0-438cb640ce33"
      },
      "execution_count": null,
      "outputs": [
        {
          "output_type": "stream",
          "name": "stdout",
          "text": [
            "   id event                      utc_time  duration_minutes  distance_km\n",
            "0   1  SOSP 1970-01-01 16:59:59.971243829         120.00096     0.000000\n",
            "1   2  EOSP 1970-01-01 19:00:00.028843829        -660.00096   321.253546\n",
            "2   3  SOSP 1970-01-01 07:59:59.971243830         360.00000     0.000000\n"
          ]
        }
      ]
    },
    {
      "cell_type": "code",
      "source": [
        "# Visualization\n",
        "import matplotlib.pyplot as plt\n",
        "\n",
        "plt.figure(figsize=(12, 6))\n",
        "plt.plot(df['utc_time'], df['distance_km'], marker='o')\n",
        "plt.title('Voyage Distance Over Time')\n",
        "plt.xlabel('UTC Time')\n",
        "plt.ylabel('Distance (km)')\n",
        "plt.grid(True)\n",
        "plt.show()"
      ],
      "metadata": {
        "colab": {
          "base_uri": "https://localhost:8080/",
          "height": 564
        },
        "id": "LU65mh_LCSKh",
        "outputId": "05a2af8f-65a3-4c69-e20e-7fa153347ad5"
      },
      "execution_count": null,
      "outputs": [
        {
          "output_type": "display_data",
          "data": {
            "text/plain": [
              "<Figure size 1200x600 with 1 Axes>"
            ],
            "image/png": "[encoded data removed]"
          },
          "metadata": {}
        }
      ]
    },
    {
      "cell_type": "code",
      "source": [],
      "metadata": {
        "id": "CTKRL24CFfKn"
      },
      "execution_count": null,
      "outputs": []
    }
  ]
}